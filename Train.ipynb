{
 "cells": [
  {
   "cell_type": "markdown",
   "metadata": {
    "colab_type": "text",
    "id": "DzejHKGeuZ1f"
   },
   "source": [
    "This kernel is inspired by Heng's [discussion](https://www.kaggle.com/c/severstal-steel-defect-detection/discussion/106462#latest-618693), which is about [HRNet-Semantic-Segmentation](https://arxiv.org/abs/1904.04514)\n",
    "![](https://raw.githubusercontent.com/HRNet/HRNet-Semantic-Segmentation/master/figures/seg-hrnet.png?generation=1565963628491533&amp;alt=media)\n"
   ]
  },
  {
   "cell_type": "code",
   "execution_count": null,
   "metadata": {
    "colab": {
     "base_uri": "https://localhost:8080/",
     "height": 119
    },
    "colab_type": "code",
    "id": "GiePWbO_ulWW",
    "outputId": "82e24784-1f6f-400a-9e43-50a4ce4b22fd"
   },
   "outputs": [
    {
     "name": "stdout",
     "output_type": "stream",
     "text": [
      "Cloning into 'OCRForClothes'...\n",
      "remote: Enumerating objects: 3159, done.\u001b[K\n",
      "remote: Total 3159 (delta 0), reused 0 (delta 0), pack-reused 3159\u001b[K\n",
      "Receiving objects: 100% (3159/3159), 313.32 MiB | 35.36 MiB/s, done.\n",
      "Resolving deltas: 100% (582/582), done.\n",
      "Checking out files: 100% (3140/3140), done.\n"
     ]
    }
   ],
   "source": [
    "!git clone https://github.com/georgepsh/OCRForClothes"
   ]
  },
  {
   "cell_type": "code",
   "execution_count": null,
   "metadata": {
    "colab": {
     "base_uri": "https://localhost:8080/",
     "height": 357
    },
    "colab_type": "code",
    "id": "DBJ2Qzr1usRK",
    "outputId": "e2b9d9ac-d576-4564-975a-851434185002"
   },
   "outputs": [
    {
     "name": "stdout",
     "output_type": "stream",
     "text": [
      "Thu Jun 25 07:16:21 2020       \n",
      "+-----------------------------------------------------------------------------+\n",
      "| NVIDIA-SMI 450.36.06    Driver Version: 418.67       CUDA Version: 10.1     |\n",
      "|-------------------------------+----------------------+----------------------+\n",
      "| GPU  Name        Persistence-M| Bus-Id        Disp.A | Volatile Uncorr. ECC |\n",
      "| Fan  Temp  Perf  Pwr:Usage/Cap|         Memory-Usage | GPU-Util  Compute M. |\n",
      "|                               |                      |               MIG M. |\n",
      "|===============================+======================+======================|\n",
      "|   0  Tesla K80           Off  | 00000000:00:04.0 Off |                    0 |\n",
      "| N/A   72C    P8    35W / 149W |      0MiB / 11441MiB |      0%      Default |\n",
      "|                               |                      |                 ERR! |\n",
      "+-------------------------------+----------------------+----------------------+\n",
      "                                                                               \n",
      "+-----------------------------------------------------------------------------+\n",
      "| Processes:                                                                  |\n",
      "|  GPU   GI   CI        PID   Type   Process name                  GPU Memory |\n",
      "|        ID   ID                                                   Usage      |\n",
      "|=============================================================================|\n",
      "|  No running processes found                                                 |\n",
      "+-----------------------------------------------------------------------------+\n"
     ]
    }
   ],
   "source": [
    "!nvidia-smi"
   ]
  },
  {
   "cell_type": "code",
   "execution_count": null,
   "metadata": {
    "colab": {},
    "colab_type": "code",
    "id": "8acZktf2uZ1h"
   },
   "outputs": [],
   "source": [
    "from OCRForClothes.HRNet.c1_decoder import get_decoder, C1DeepSup\n",
    "from OCRForClothes.HRNet.hrnet import get_encoder\n",
    "from OCRForClothes.HRNet.resnet import resnet18, resnet50\n",
    "from OCRForClothes.HRNet.model import Resnet_OCR\n",
    "from torchvision import transforms\n",
    "from torch.utils.data import TensorDataset, DataLoader, random_split\n",
    "import torch.optim as optim\n",
    "import torch.nn as nn\n",
    "import torch\n",
    "import numpy as np\n",
    "import cv2\n",
    "from PIL import Image\n",
    "import scipy.io\n",
    "import matplotlib.pylab as plt\n",
    "import glob\n",
    "from tqdm import tqdm\n",
    "import pickle as pkl"
   ]
  },
  {
   "cell_type": "code",
   "execution_count": null,
   "metadata": {
    "colab": {},
    "colab_type": "code",
    "id": "nKaCFRdVwevf"
   },
   "outputs": [],
   "source": [
    "device = torch.device('cuda')   "
   ]
  },
  {
   "cell_type": "code",
   "execution_count": null,
   "metadata": {
    "colab": {},
    "colab_type": "code",
    "id": "c2ed4bb4uZ1n"
   },
   "outputs": [],
   "source": [
    "def transform(image, size):\n",
    "    resize = transforms.Compose([transforms.Resize(size), transforms.ToTensor()])\n",
    "    return resize(Image.fromarray(np.uint8(image))).unsqueeze(0)"
   ]
  },
  {
   "cell_type": "code",
   "execution_count": null,
   "metadata": {
    "colab": {},
    "colab_type": "code",
    "id": "Rh3zF5yjuZ1s"
   },
   "outputs": [],
   "source": [
    "def show(output, colors):\n",
    "    final = output[0].cpu().detach().numpy()\n",
    "    classes = np.argmax(final, axis=0)\n",
    "    mask = colors[classes]\n",
    "    plt.imshow(mask)\n",
    "    plt.show()"
   ]
  },
  {
   "cell_type": "code",
   "execution_count": null,
   "metadata": {
    "colab": {},
    "colab_type": "code",
    "id": "7LdTm7HkuZ1x"
   },
   "outputs": [],
   "source": [
    "encoder = resnet18('OCRForClothes/resnet18-imagenet.pth')"
   ]
  },
  {
   "cell_type": "code",
   "execution_count": null,
   "metadata": {
    "colab": {},
    "colab_type": "code",
    "id": "JrSsv2jguZ12"
   },
   "outputs": [],
   "source": [
    "decoder = get_decoder(59, 960, '')"
   ]
  },
  {
   "cell_type": "code",
   "execution_count": null,
   "metadata": {
    "colab": {},
    "colab_type": "code",
    "id": "8Rn_elXXuZ18"
   },
   "outputs": [],
   "source": [
    "size = (800, 544)\n",
    "size_label = (200, 136)"
   ]
  },
  {
   "cell_type": "code",
   "execution_count": null,
   "metadata": {
    "colab": {},
    "colab_type": "code",
    "id": "zk75CvNeuZ2A"
   },
   "outputs": [],
   "source": [
    "colors = scipy.io.loadmat('OCRForClothes/color150.mat')['colors']"
   ]
  },
  {
   "cell_type": "code",
   "execution_count": null,
   "metadata": {
    "colab": {},
    "colab_type": "code",
    "id": "pSa7x0YjuZ2E"
   },
   "outputs": [],
   "source": [
    "output_folder = f'OCRForClothes/data/annotations/pixel-level/'\n",
    "input_folder = f'OCRForClothes/data/photos/'\n",
    "num = 1004"
   ]
  },
  {
   "cell_type": "code",
   "execution_count": null,
   "metadata": {
    "colab": {},
    "colab_type": "code",
    "id": "ytdhqHxFuZ2H"
   },
   "outputs": [],
   "source": [
    "inputs = torch.cat([transform(Image.open(x), size) for x in sorted(glob.glob(f'{input_folder}*.jpg'))[:num]])"
   ]
  },
  {
   "cell_type": "code",
   "execution_count": null,
   "metadata": {
    "colab": {},
    "colab_type": "code",
    "id": "s0SpUmIEuZ2L"
   },
   "outputs": [],
   "source": [
    "labels = torch.cat([(255 * transform(scipy.io.loadmat(x)['groundtruth'], size_label)).type(torch.LongTensor) \n",
    "          for x in sorted(glob.glob(f'{output_folder}*.mat'))[:num]])"
   ]
  },
  {
   "cell_type": "code",
   "execution_count": null,
   "metadata": {
    "colab": {},
    "colab_type": "code",
    "id": "EjQu6sP0uZ2O"
   },
   "outputs": [],
   "source": [
    "train_dataset, test_dataset = TensorDataset(inputs[:803], labels[:803]), TensorDataset(inputs[803:], labels[803:])"
   ]
  },
  {
   "cell_type": "code",
   "execution_count": null,
   "metadata": {
    "colab": {},
    "colab_type": "code",
    "id": "CamwAxOBuZ2V"
   },
   "outputs": [],
   "source": [
    "model = Resnet_OCR(encoder, decoder, size).to(device)\n",
    "# model.EncoderDecoder.load_state_dict(torch.load('model.pkl'))"
   ]
  },
  {
   "cell_type": "code",
   "execution_count": null,
   "metadata": {
    "colab": {},
    "colab_type": "code",
    "id": "9nOoo1kHuZ2Y"
   },
   "outputs": [],
   "source": [
    "def measure_accuracy(model, dataset):\n",
    "    dataloader = DataLoader(dataset, 1, shuffle=False)\n",
    "    count = 0\n",
    "    correct = 0\n",
    "    for data, target in dataloader:\n",
    "        prediction = model(data.to(device), ocr=True)[1][0].cpu().detach().numpy()\n",
    "        classes = np.argmax(prediction, axis=0)\n",
    "        count += classes.shape[0] * classes.shape[1]\n",
    "        comparison = (classes == target[0, 0].detach().numpy()).astype(int).flatten()\n",
    "        correct += sum(comparison)\n",
    "    return correct / count"
   ]
  },
  {
   "cell_type": "code",
   "execution_count": null,
   "metadata": {
    "colab": {},
    "colab_type": "code",
    "id": "FLEWhXaGuZ2b"
   },
   "outputs": [],
   "source": [
    "def train(model, train_dataset, test_dataset, epochs=1, batch_size=64, upd_freq=4):\n",
    "    dataloader = DataLoader(train_dataset, batch_size, shuffle=True)\n",
    "    optimizer = optim.Adam(model.parameters(), 3e-4)\n",
    "    model.train()\n",
    "    criterion = nn.NLLLoss(ignore_index=-1)\n",
    "    losses = []\n",
    "    accs = []\n",
    "    for e in range(epochs):\n",
    "        epoch_loss = 0\n",
    "        count = 0\n",
    "        for data, target in tqdm(dataloader, total=len(dataloader)):\n",
    "            data, target = data.to(device), target.to(device)\n",
    "            \n",
    "            prediction = model(data)\n",
    "            out_aux = prediction[0]\n",
    "            out = prediction[1]\n",
    "\n",
    "            soft_region_loss = criterion(out_aux, target.squeeze(1))\n",
    "            ocr_loss = criterion(out, target.squeeze(1))\n",
    "            loss = soft_region_loss + ocr_loss\n",
    "            loss.backward()\n",
    "            if (count + 1) // upd_freq == 0 or (count + 1) == len(dataloader):\n",
    "                optimizer.step()\n",
    "                optimizer.zero_grad()\n",
    "            count += 1\n",
    "            epoch_loss += loss\n",
    "        losses.append(epoch_loss.item() / count)\n",
    "        name = 'model_ocr' + str(e+1) + 'pkl'\n",
    "        torch.save(model.state_dict(), name)\n",
    "        accs.append(measure_accuracy(model, test_dataset))\n",
    "        print(f'epoch {e+1} loss: {epoch_loss.item() / count}')\n",
    "        print(f'epoch {e+1} accuracy: {accs[-1]}')\n",
    "    return losses, accs"
   ]
  },
  {
   "cell_type": "code",
   "execution_count": null,
   "metadata": {
    "colab": {
     "base_uri": "https://localhost:8080/",
     "height": 442
    },
    "colab_type": "code",
    "id": "M0p0f_BeuZ2e",
    "outputId": "a310129c-3332-4fe8-ad3c-9e6b40cf37c8"
   },
   "outputs": [
    {
     "name": "stderr",
     "output_type": "stream",
     "text": [
      "100%|██████████| 201/201 [07:59<00:00,  2.39s/it]\n",
      "  0%|          | 0/201 [00:00<?, ?it/s]"
     ]
    },
    {
     "name": "stdout",
     "output_type": "stream",
     "text": [
      "epoch 1 loss: 7.977610725668533\n",
      "epoch 1 accuracy: 0.5576986391571555\n"
     ]
    },
    {
     "name": "stderr",
     "output_type": "stream",
     "text": [
      "100%|██████████| 201/201 [07:59<00:00,  2.39s/it]\n",
      "  0%|          | 0/201 [00:00<?, ?it/s]"
     ]
    },
    {
     "name": "stdout",
     "output_type": "stream",
     "text": [
      "epoch 2 loss: 7.03471776857898\n",
      "epoch 2 accuracy: 0.6904783069944396\n"
     ]
    },
    {
     "name": "stderr",
     "output_type": "stream",
     "text": [
      "100%|██████████| 201/201 [07:59<00:00,  2.38s/it]\n",
      "  0%|          | 0/201 [00:00<?, ?it/s]"
     ]
    },
    {
     "name": "stdout",
     "output_type": "stream",
     "text": [
      "epoch 3 loss: 6.543749149759018\n",
      "epoch 3 accuracy: 0.7202681445712613\n"
     ]
    },
    {
     "name": "stderr",
     "output_type": "stream",
     "text": [
      "100%|██████████| 201/201 [07:59<00:00,  2.39s/it]\n",
      "  0%|          | 0/201 [00:00<?, ?it/s]"
     ]
    },
    {
     "name": "stdout",
     "output_type": "stream",
     "text": [
      "epoch 4 loss: 6.142221023787314\n",
      "epoch 4 accuracy: 0.7494882206613989\n"
     ]
    },
    {
     "name": "stderr",
     "output_type": "stream",
     "text": [
      "100%|██████████| 201/201 [07:59<00:00,  2.39s/it]\n",
      "  0%|          | 0/201 [00:00<?, ?it/s]"
     ]
    },
    {
     "name": "stdout",
     "output_type": "stream",
     "text": [
      "epoch 5 loss: 5.821251408970771\n",
      "epoch 5 accuracy: 0.7693899985367281\n"
     ]
    },
    {
     "name": "stderr",
     "output_type": "stream",
     "text": [
      "100%|██████████| 201/201 [07:59<00:00,  2.39s/it]\n",
      "  0%|          | 0/201 [00:00<?, ?it/s]"
     ]
    },
    {
     "name": "stdout",
     "output_type": "stream",
     "text": [
      "epoch 6 loss: 5.571221650536381\n",
      "epoch 6 accuracy: 0.7724690883816213\n"
     ]
    },
    {
     "name": "stderr",
     "output_type": "stream",
     "text": [
      "100%|██████████| 201/201 [08:00<00:00,  2.39s/it]\n",
      "  0%|          | 0/201 [00:00<?, ?it/s]"
     ]
    },
    {
     "name": "stdout",
     "output_type": "stream",
     "text": [
      "epoch 7 loss: 5.371623935984142\n",
      "epoch 7 accuracy: 0.7835041703248463\n"
     ]
    },
    {
     "name": "stderr",
     "output_type": "stream",
     "text": [
      "100%|██████████| 201/201 [07:59<00:00,  2.39s/it]\n",
      "  0%|          | 0/201 [00:00<?, ?it/s]"
     ]
    },
    {
     "name": "stdout",
     "output_type": "stream",
     "text": [
      "epoch 8 loss: 5.250530793299129\n",
      "epoch 8 accuracy: 0.7878226514486392\n"
     ]
    },
    {
     "name": "stderr",
     "output_type": "stream",
     "text": [
      " 65%|██████▍   | 130/201 [05:08<02:49,  2.39s/it]"
     ]
    }
   ],
   "source": [
    "losses, accuracies = train(model, train_dataset, test_dataset, epochs=30, batch_size=4, upd_freq=4)"
   ]
  },
  {
   "cell_type": "code",
   "execution_count": null,
   "metadata": {
    "colab": {},
    "colab_type": "code",
    "id": "iOCHdFypuZ2u"
   },
   "outputs": [],
   "source": [
    "torch.save(model.state_dict(), 'model_ocr.pkl')"
   ]
  },
  {
   "cell_type": "code",
   "execution_count": null,
   "metadata": {
    "colab": {
     "base_uri": "https://localhost:8080/",
     "height": 286
    },
    "colab_type": "code",
    "id": "J_IPK-33uZ2h",
    "outputId": "e8a91622-1eda-48c8-ff5e-7b06b7a152c0"
   },
   "outputs": [
    {
     "data": {
      "text/plain": [
       "<matplotlib.image.AxesImage at 0x7fb7fcf791d0>"
      ]
     },
     "execution_count": 23,
     "metadata": {
      "tags": []
     },
     "output_type": "execute_result"
    },
    {
     "data": {
      "image/png": "[encoded data removed]",
      "text/plain": [
       "<Figure size 432x288 with 1 Axes>"
      ]
     },
     "metadata": {
      "needs_background": "light",
      "tags": []
     },
     "output_type": "display_data"
    }
   ],
   "source": [
    "num = 96\n",
    "example = train_dataset[num][0].unsqueeze(0)\n",
    "example.shape\n",
    "plt.imshow(example[0].permute((1, 2, 0)))"
   ]
  },
  {
   "cell_type": "code",
   "execution_count": null,
   "metadata": {
    "colab": {
     "base_uri": "https://localhost:8080/",
     "height": 286
    },
    "colab_type": "code",
    "id": "yo-TQ9ESuZ2l",
    "outputId": "54b72c5d-fc35-4d99-a656-a7b25a58e01f"
   },
   "outputs": [
    {
     "name": "stdout",
     "output_type": "stream",
     "text": [
      "(200, 136, 3)\n"
     ]
    },
    {
     "data": {
      "image/png": "[encoded data removed]",
      "text/plain": [
       "<Figure size 432x288 with 1 Axes>"
      ]
     },
     "metadata": {
      "needs_background": "light",
      "tags": []
     },
     "output_type": "display_data"
    }
   ],
   "source": [
    "prediction = model(example.to(device), ocr=True, segSize=False)\n",
    "show(prediction[1], colors)"
   ]
  },
  {
   "cell_type": "code",
   "execution_count": null,
   "metadata": {
    "colab": {
     "base_uri": "https://localhost:8080/",
     "height": 286
    },
    "colab_type": "code",
    "id": "muyj38xBuZ2o",
    "outputId": "a25daa7c-c375-4e80-8af5-bb279d0b3a8f"
   },
   "outputs": [
    {
     "data": {
      "text/plain": [
       "<matplotlib.image.AxesImage at 0x7fb7fce869b0>"
      ]
     },
     "execution_count": 28,
     "metadata": {
      "tags": []
     },
     "output_type": "execute_result"
    },
    {
     "data": {
      "image/png": "[encoded data removed]",
      "text/plain": [
       "<Figure size 432x288 with 1 Axes>"
      ]
     },
     "metadata": {
      "needs_background": "light",
      "tags": []
     },
     "output_type": "display_data"
    }
   ],
   "source": [
    "lab = labels[num][0]\n",
    "truth = colors[lab]\n",
    "plt.imshow(truth, cmap='gray')"
   ]
  },
  {
   "cell_type": "code",
   "execution_count": null,
   "metadata": {
    "colab": {},
    "colab_type": "code",
    "id": "pWWSbDhUuZ2x"
   },
   "outputs": [],
   "source": []
  }
 ],
 "metadata": {
  "accelerator": "GPU",
  "colab": {
   "name": "Копия блокнота \"encoder_decoder.ipynb\"",
   "provenance": []
  },
  "kernelspec": {
   "display_name": "Python 3",
   "language": "python",
   "name": "python3"
  },
  "language_info": {
   "codemirror_mode": {
    "name": "ipython",
    "version": 3
   },
   "file_extension": ".py",
   "mimetype": "text/x-python",
   "name": "python",
   "nbconvert_exporter": "python",
   "pygments_lexer": "ipython3",
   "version": "3.7.3"
  }
 },
 "nbformat": 4,
 "nbformat_minor": 1
}
